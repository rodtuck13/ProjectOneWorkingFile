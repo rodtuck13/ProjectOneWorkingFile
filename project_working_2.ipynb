{
 "cells": [
  {
   "cell_type": "code",
   "execution_count": 5,
   "id": "eight-opinion",
   "metadata": {},
   "outputs": [],
   "source": [
    "from dotenv import load_dotenv\n",
    "import os\n",
    "import requests\n",
    "import json\n",
    "import pandas as pd\n",
    "import quandl\n",
    "import matplotlib\n",
    "import hvplot.pandas\n",
    "\n",
    "%matplotlib inline"
   ]
  },
  {
   "cell_type": "code",
   "execution_count": 6,
   "id": "overall-starter",
   "metadata": {},
   "outputs": [
    {
     "data": {
      "text/plain": [
       "True"
      ]
     },
     "execution_count": 6,
     "metadata": {},
     "output_type": "execute_result"
    }
   ],
   "source": [
    "load_dotenv()"
   ]
  },
  {
   "cell_type": "code",
   "execution_count": 7,
   "id": "discrete-discretion",
   "metadata": {},
   "outputs": [
    {
     "data": {
      "text/html": [
       "<div>\n",
       "<style scoped>\n",
       "    .dataframe tbody tr th:only-of-type {\n",
       "        vertical-align: middle;\n",
       "    }\n",
       "\n",
       "    .dataframe tbody tr th {\n",
       "        vertical-align: top;\n",
       "    }\n",
       "\n",
       "    .dataframe thead th {\n",
       "        text-align: right;\n",
       "    }\n",
       "</style>\n",
       "<table border=\"1\" class=\"dataframe\">\n",
       "  <thead>\n",
       "    <tr style=\"text-align: right;\">\n",
       "      <th></th>\n",
       "      <th>region_id</th>\n",
       "      <th>region_type</th>\n",
       "      <th>region</th>\n",
       "    </tr>\n",
       "  </thead>\n",
       "  <tbody>\n",
       "    <tr>\n",
       "      <th>0</th>\n",
       "      <td>97559</td>\n",
       "      <td>zip</td>\n",
       "      <td>94104; CA; San Francisco-Oakland-Hayward; San ...</td>\n",
       "    </tr>\n",
       "    <tr>\n",
       "      <th>1</th>\n",
       "      <td>97563</td>\n",
       "      <td>zip</td>\n",
       "      <td>94108</td>\n",
       "    </tr>\n",
       "    <tr>\n",
       "      <th>2</th>\n",
       "      <td>97566</td>\n",
       "      <td>zip</td>\n",
       "      <td>94111; CA; San Francisco-Oakland-Hayward; San ...</td>\n",
       "    </tr>\n",
       "    <tr>\n",
       "      <th>3</th>\n",
       "      <td>97587</td>\n",
       "      <td>zip</td>\n",
       "      <td>94133</td>\n",
       "    </tr>\n",
       "  </tbody>\n",
       "</table>\n",
       "</div>"
      ],
      "text/plain": [
       "   region_id region_type                                             region\n",
       "0      97559         zip  94104; CA; San Francisco-Oakland-Hayward; San ...\n",
       "1      97563         zip                                              94108\n",
       "2      97566         zip  94111; CA; San Francisco-Oakland-Hayward; San ...\n",
       "3      97587         zip                                              94133"
      ]
     },
     "execution_count": 7,
     "metadata": {},
     "output_type": "execute_result"
    }
   ],
   "source": [
    "downtown_sf_zipcodes = pd.read_csv('downtown_SF_zipcodes.csv')\n",
    "downtown_sf_zipcodes.head()"
   ]
  },
  {
   "cell_type": "code",
   "execution_count": 8,
   "id": "better-participation",
   "metadata": {},
   "outputs": [
    {
     "data": {
      "text/html": [
       "<div>\n",
       "<style scoped>\n",
       "    .dataframe tbody tr th:only-of-type {\n",
       "        vertical-align: middle;\n",
       "    }\n",
       "\n",
       "    .dataframe tbody tr th {\n",
       "        vertical-align: top;\n",
       "    }\n",
       "\n",
       "    .dataframe thead th {\n",
       "        text-align: right;\n",
       "    }\n",
       "</style>\n",
       "<table border=\"1\" class=\"dataframe\">\n",
       "  <thead>\n",
       "    <tr style=\"text-align: right;\">\n",
       "      <th></th>\n",
       "      <th>region_id</th>\n",
       "      <th>region_type</th>\n",
       "      <th>region</th>\n",
       "    </tr>\n",
       "  </thead>\n",
       "  <tbody>\n",
       "    <tr>\n",
       "      <th>0</th>\n",
       "      <td>97583</td>\n",
       "      <td>zip</td>\n",
       "      <td>94129; CA; San Francisco-Oakland-Hayward; San ...</td>\n",
       "    </tr>\n",
       "    <tr>\n",
       "      <th>1</th>\n",
       "      <td>97571</td>\n",
       "      <td>zip</td>\n",
       "      <td>94117</td>\n",
       "    </tr>\n",
       "    <tr>\n",
       "      <th>2</th>\n",
       "      <td>97565</td>\n",
       "      <td>zip</td>\n",
       "      <td>94110</td>\n",
       "    </tr>\n",
       "    <tr>\n",
       "      <th>3</th>\n",
       "      <td>97578</td>\n",
       "      <td>zip</td>\n",
       "      <td>94124; CA; San Francisco-Oakland-Hayward; San ...</td>\n",
       "    </tr>\n",
       "    <tr>\n",
       "      <th>4</th>\n",
       "      <td>97581</td>\n",
       "      <td>zip</td>\n",
       "      <td>94127; CA; San Francisco-Oakland-Hayward; San ...</td>\n",
       "    </tr>\n",
       "  </tbody>\n",
       "</table>\n",
       "</div>"
      ],
      "text/plain": [
       "   region_id region_type                                             region\n",
       "0      97583         zip  94129; CA; San Francisco-Oakland-Hayward; San ...\n",
       "1      97571         zip                                              94117\n",
       "2      97565         zip                                              94110\n",
       "3      97578         zip  94124; CA; San Francisco-Oakland-Hayward; San ...\n",
       "4      97581         zip  94127; CA; San Francisco-Oakland-Hayward; San ..."
      ]
     },
     "execution_count": 8,
     "metadata": {},
     "output_type": "execute_result"
    }
   ],
   "source": [
    "outside_sf_zipcodes = pd.read_csv('outside_SF_zipcodes.csv')\n",
    "outside_sf_zipcodes.head()"
   ]
  },
  {
   "cell_type": "code",
   "execution_count": 9,
   "id": "tropical-trader",
   "metadata": {},
   "outputs": [],
   "source": [
    "quandl.ApiConfig.api_key = os.getenv('QUANDL_API_KEY')"
   ]
  },
  {
   "cell_type": "code",
   "execution_count": 10,
   "id": "ruled-april",
   "metadata": {},
   "outputs": [
    {
     "data": {
      "text/plain": [
       "4"
      ]
     },
     "execution_count": 10,
     "metadata": {},
     "output_type": "execute_result"
    }
   ],
   "source": [
    "num_of_codes = len(downtown_sf_zipcodes.index)\n",
    "num_of_codes"
   ]
  },
  {
   "cell_type": "code",
   "execution_count": 11,
   "id": "revised-inquiry",
   "metadata": {},
   "outputs": [
    {
     "data": {
      "text/html": [
       "<div>\n",
       "<style scoped>\n",
       "    .dataframe tbody tr th:only-of-type {\n",
       "        vertical-align: middle;\n",
       "    }\n",
       "\n",
       "    .dataframe tbody tr th {\n",
       "        vertical-align: top;\n",
       "    }\n",
       "\n",
       "    .dataframe thead th {\n",
       "        text-align: right;\n",
       "    }\n",
       "</style>\n",
       "<table border=\"1\" class=\"dataframe\">\n",
       "  <thead>\n",
       "    <tr style=\"text-align: right;\">\n",
       "      <th></th>\n",
       "      <th>indicator_id</th>\n",
       "      <th>region_id</th>\n",
       "      <th>value</th>\n",
       "    </tr>\n",
       "    <tr>\n",
       "      <th>date</th>\n",
       "      <th></th>\n",
       "      <th></th>\n",
       "      <th></th>\n",
       "    </tr>\n",
       "  </thead>\n",
       "  <tbody>\n",
       "    <tr>\n",
       "      <th>2020-12-31</th>\n",
       "      <td>ZSFH</td>\n",
       "      <td>97587</td>\n",
       "      <td>2664073.0</td>\n",
       "    </tr>\n",
       "    <tr>\n",
       "      <th>2020-11-30</th>\n",
       "      <td>ZSFH</td>\n",
       "      <td>97587</td>\n",
       "      <td>2699389.0</td>\n",
       "    </tr>\n",
       "    <tr>\n",
       "      <th>2020-10-31</th>\n",
       "      <td>ZSFH</td>\n",
       "      <td>97587</td>\n",
       "      <td>2729402.0</td>\n",
       "    </tr>\n",
       "    <tr>\n",
       "      <th>2020-09-30</th>\n",
       "      <td>ZSFH</td>\n",
       "      <td>97587</td>\n",
       "      <td>2866089.0</td>\n",
       "    </tr>\n",
       "    <tr>\n",
       "      <th>2020-08-31</th>\n",
       "      <td>ZSFH</td>\n",
       "      <td>97587</td>\n",
       "      <td>2699777.0</td>\n",
       "    </tr>\n",
       "  </tbody>\n",
       "</table>\n",
       "</div>"
      ],
      "text/plain": [
       "           indicator_id region_id      value\n",
       "date                                        \n",
       "2020-12-31         ZSFH     97587  2664073.0\n",
       "2020-11-30         ZSFH     97587  2699389.0\n",
       "2020-10-31         ZSFH     97587  2729402.0\n",
       "2020-09-30         ZSFH     97587  2866089.0\n",
       "2020-08-31         ZSFH     97587  2699777.0"
      ]
     },
     "execution_count": 11,
     "metadata": {},
     "output_type": "execute_result"
    }
   ],
   "source": [
    "# Pull downtown San Francisco data for single-family homes time series from zillow through Quandl API\n",
    "\n",
    "data = {}\n",
    "count = 0\n",
    "while count < num_of_codes:\n",
    "    zipcode_code = downtown_sf_zipcodes.iloc[count,0]\n",
    "    data[count] = quandl.get_table('ZILLOW/DATA', indicator_id='ZSFH', region_id=zipcode_code)\n",
    "    data[count] = data[count].set_index('date')\n",
    "    count += 1\n",
    "    \n",
    "data[3].head()"
   ]
  },
  {
   "cell_type": "code",
   "execution_count": 12,
   "id": "human-radio",
   "metadata": {},
   "outputs": [
    {
     "data": {
      "text/html": [
       "<div>\n",
       "<style scoped>\n",
       "    .dataframe tbody tr th:only-of-type {\n",
       "        vertical-align: middle;\n",
       "    }\n",
       "\n",
       "    .dataframe tbody tr th {\n",
       "        vertical-align: top;\n",
       "    }\n",
       "\n",
       "    .dataframe thead th {\n",
       "        text-align: right;\n",
       "    }\n",
       "</style>\n",
       "<table border=\"1\" class=\"dataframe\">\n",
       "  <thead>\n",
       "    <tr style=\"text-align: right;\">\n",
       "      <th></th>\n",
       "      <th>indicator_id</th>\n",
       "      <th>value</th>\n",
       "      <th>count</th>\n",
       "      <th>mean</th>\n",
       "    </tr>\n",
       "    <tr>\n",
       "      <th>date</th>\n",
       "      <th></th>\n",
       "      <th></th>\n",
       "      <th></th>\n",
       "      <th></th>\n",
       "    </tr>\n",
       "  </thead>\n",
       "  <tbody>\n",
       "    <tr>\n",
       "      <th>2020-12-31</th>\n",
       "      <td>ZSFH</td>\n",
       "      <td>6647362.0</td>\n",
       "      <td>3</td>\n",
       "      <td>2215787.33</td>\n",
       "    </tr>\n",
       "    <tr>\n",
       "      <th>2020-11-30</th>\n",
       "      <td>ZSFH</td>\n",
       "      <td>6729250.0</td>\n",
       "      <td>3</td>\n",
       "      <td>2243083.33</td>\n",
       "    </tr>\n",
       "    <tr>\n",
       "      <th>2020-10-31</th>\n",
       "      <td>ZSFH</td>\n",
       "      <td>6784914.0</td>\n",
       "      <td>3</td>\n",
       "      <td>2261638.00</td>\n",
       "    </tr>\n",
       "    <tr>\n",
       "      <th>2020-09-30</th>\n",
       "      <td>ZSFH</td>\n",
       "      <td>7335536.0</td>\n",
       "      <td>3</td>\n",
       "      <td>2445178.67</td>\n",
       "    </tr>\n",
       "    <tr>\n",
       "      <th>2020-08-31</th>\n",
       "      <td>ZSFH</td>\n",
       "      <td>6738826.0</td>\n",
       "      <td>3</td>\n",
       "      <td>2246275.33</td>\n",
       "    </tr>\n",
       "  </tbody>\n",
       "</table>\n",
       "</div>"
      ],
      "text/plain": [
       "           indicator_id      value  count        mean\n",
       "date                                                 \n",
       "2020-12-31         ZSFH  6647362.0      3  2215787.33\n",
       "2020-11-30         ZSFH  6729250.0      3  2243083.33\n",
       "2020-10-31         ZSFH  6784914.0      3  2261638.00\n",
       "2020-09-30         ZSFH  7335536.0      3  2445178.67\n",
       "2020-08-31         ZSFH  6738826.0      3  2246275.33"
      ]
     },
     "execution_count": 12,
     "metadata": {},
     "output_type": "execute_result"
    }
   ],
   "source": [
    "# Combine downtown San Francisco data for single-family homes into a single dataframe\n",
    "\n",
    "first_data = 'yes'\n",
    "count = 0\n",
    "dataframe_count = 0\n",
    "downtown_sf_sfh = pd.DataFrame()\n",
    "\n",
    "while count < num_of_codes:\n",
    "    if len(data[count].index) == 0 and first_data == 'yes':\n",
    "        count += 1\n",
    "    elif len(data[count].index) > 0 and first_data == 'yes':\n",
    "        dataframe_count = 1\n",
    "        downtown_sf_sfh['indicator_id'] = data[count]['indicator_id']\n",
    "        downtown_sf_sfh['value'] = data[count]['value']\n",
    "        downtown_sf_sfh['count'] = dataframe_count\n",
    "        first_data = 'no'\n",
    "        count += 1\n",
    "    elif len(data[count].index) == 0 and first_data == 'no':\n",
    "        count += 1\n",
    "    elif len(data[count].index) > 0 and first_data == 'no':\n",
    "        dataframe_count += 1\n",
    "        downtown_sf_sfh['value'] += data[count]['value']\n",
    "        downtown_sf_sfh['count'] = dataframe_count\n",
    "        count += 1\n",
    "\n",
    "downtown_sf_sfh['mean'] = round(downtown_sf_sfh['value']/downtown_sf_sfh['count'],2)\n",
    "downtown_sf_sfh.head()"
   ]
  },
  {
   "cell_type": "code",
   "execution_count": 14,
   "id": "boring-parts",
   "metadata": {},
   "outputs": [],
   "source": [
    "data[0].to_csv(r'sfh0.csv')\n",
    "data[1].to_csv(r'sfh1.csv')\n",
    "data[2].to_csv(r'sfh2.csv')\n",
    "data[3].to_csv(r'sfh3.csv')"
   ]
  },
  {
   "cell_type": "code",
   "execution_count": null,
   "id": "swiss-feedback",
   "metadata": {},
   "outputs": [],
   "source": []
  }
 ],
 "metadata": {
  "kernelspec": {
   "display_name": "Python [conda env:.conda-pyvizenv] *",
   "language": "python",
   "name": "conda-env-.conda-pyvizenv-py"
  },
  "language_info": {
   "codemirror_mode": {
    "name": "ipython",
    "version": 3
   },
   "file_extension": ".py",
   "mimetype": "text/x-python",
   "name": "python",
   "nbconvert_exporter": "python",
   "pygments_lexer": "ipython3",
   "version": "3.7.9"
  }
 },
 "nbformat": 4,
 "nbformat_minor": 5
}
